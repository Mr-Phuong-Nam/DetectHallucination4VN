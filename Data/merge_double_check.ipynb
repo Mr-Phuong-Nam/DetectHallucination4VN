{
 "cells": [
  {
   "cell_type": "code",
   "execution_count": 1,
   "metadata": {},
   "outputs": [],
   "source": [
    "import pandas as pd\n",
    "import numpy as np"
   ]
  },
  {
   "cell_type": "code",
   "execution_count": 2,
   "metadata": {},
   "outputs": [
    {
     "data": {
      "text/html": [
       "<div>\n",
       "<style scoped>\n",
       "    .dataframe tbody tr th:only-of-type {\n",
       "        vertical-align: middle;\n",
       "    }\n",
       "\n",
       "    .dataframe tbody tr th {\n",
       "        vertical-align: top;\n",
       "    }\n",
       "\n",
       "    .dataframe thead th {\n",
       "        text-align: right;\n",
       "    }\n",
       "</style>\n",
       "<table border=\"1\" class=\"dataframe\">\n",
       "  <thead>\n",
       "    <tr style=\"text-align: right;\">\n",
       "      <th></th>\n",
       "      <th>title</th>\n",
       "      <th>gemini_text</th>\n",
       "      <th>gemini_sentences</th>\n",
       "      <th>annotation</th>\n",
       "      <th>gemini_text_samples</th>\n",
       "      <th>annotation_note</th>\n",
       "    </tr>\n",
       "  </thead>\n",
       "  <tbody>\n",
       "    <tr>\n",
       "      <th>0</th>\n",
       "      <td>Hà Nội</td>\n",
       "      <td>Hà Nội, thủ đô của Việt Nam, nằm ở vị trí 21°0...</td>\n",
       "      <td>['Hà Nội, thủ đô của Việt Nam, nằm ở vị trí 21...</td>\n",
       "      <td>['accurate', 'minor_inaccurate', 'accurate', '...</td>\n",
       "      <td>['Hà Nội, thủ đô của Việt Nam, nằm ở tọa độ đị...</td>\n",
       "      <td>[None, 'Hà Nội chỉ nằm trên lưu vực Sông Hồng ...</td>\n",
       "    </tr>\n",
       "    <tr>\n",
       "      <th>1</th>\n",
       "      <td>Thành phố Hồ Chí Minh</td>\n",
       "      <td>Thành phố Hồ Chí Minh (TP.HCM) nằm ở phía Đông...</td>\n",
       "      <td>['Thành phố Hồ Chí Minh (TP.HCM) nằm ở phía Đô...</td>\n",
       "      <td>['accurate', 'accurate', 'minor_inaccurate', '...</td>\n",
       "      <td>['Thành phố Hồ Chí Minh (TP. HCM) nằm ở phía Đ...</td>\n",
       "      <td>[None, None, 'Hồ Chí Minh nằm ở hạ lưu sông Sà...</td>\n",
       "    </tr>\n",
       "    <tr>\n",
       "      <th>2</th>\n",
       "      <td>Vịnh Hạ Long</td>\n",
       "      <td>Vịnh Hạ Long nằm ở phía đông bắc Việt Nam, thu...</td>\n",
       "      <td>['Vịnh Hạ Long nằm ở phía đông bắc Việt Nam, t...</td>\n",
       "      <td>['accurate', 'minor_inaccurate', 'accurate', '...</td>\n",
       "      <td>['Vịnh Hạ Long nằm ở phía đông bắc Việt Nam, t...</td>\n",
       "      <td>[None, '20°54′B 107°12′Đ', None, 'phía Tây và ...</td>\n",
       "    </tr>\n",
       "    <tr>\n",
       "      <th>3</th>\n",
       "      <td>Sapa</td>\n",
       "      <td>Sa Pa là một thị trấn thuộc tỉnh Lào Cai, Việt...</td>\n",
       "      <td>['Sa Pa là một thị trấn thuộc tỉnh Lào Cai, Vi...</td>\n",
       "      <td>['accurate', 'minor_inaccurate', 'minor_inaccu...</td>\n",
       "      <td>['Sa Pa là một thị trấn thuộc tỉnh Lào Cai, Vi...</td>\n",
       "      <td>[None, '22°20′8″B 103°50′31″Đ', '1.500 m – 1.8...</td>\n",
       "    </tr>\n",
       "    <tr>\n",
       "      <th>4</th>\n",
       "      <td>Đà Nẵng</td>\n",
       "      <td>Đà Nẵng là một thành phố ven biển thuộc miền T...</td>\n",
       "      <td>['Đà Nẵng là một thành phố ven biển thuộc miền...</td>\n",
       "      <td>['minor_inaccurate', 'minor_inaccurate', 'accu...</td>\n",
       "      <td>['Đà Nẵng là một thành phố trực thuộc trung ươ...</td>\n",
       "      <td>['16°04′36″B 108°13′22″Đ', '1.284,88 km2, Quản...</td>\n",
       "    </tr>\n",
       "  </tbody>\n",
       "</table>\n",
       "</div>"
      ],
      "text/plain": [
       "                   title                                        gemini_text  \\\n",
       "0                 Hà Nội  Hà Nội, thủ đô của Việt Nam, nằm ở vị trí 21°0...   \n",
       "1  Thành phố Hồ Chí Minh  Thành phố Hồ Chí Minh (TP.HCM) nằm ở phía Đông...   \n",
       "2           Vịnh Hạ Long  Vịnh Hạ Long nằm ở phía đông bắc Việt Nam, thu...   \n",
       "3                   Sapa  Sa Pa là một thị trấn thuộc tỉnh Lào Cai, Việt...   \n",
       "4                Đà Nẵng  Đà Nẵng là một thành phố ven biển thuộc miền T...   \n",
       "\n",
       "                                    gemini_sentences  \\\n",
       "0  ['Hà Nội, thủ đô của Việt Nam, nằm ở vị trí 21...   \n",
       "1  ['Thành phố Hồ Chí Minh (TP.HCM) nằm ở phía Đô...   \n",
       "2  ['Vịnh Hạ Long nằm ở phía đông bắc Việt Nam, t...   \n",
       "3  ['Sa Pa là một thị trấn thuộc tỉnh Lào Cai, Vi...   \n",
       "4  ['Đà Nẵng là một thành phố ven biển thuộc miền...   \n",
       "\n",
       "                                          annotation  \\\n",
       "0  ['accurate', 'minor_inaccurate', 'accurate', '...   \n",
       "1  ['accurate', 'accurate', 'minor_inaccurate', '...   \n",
       "2  ['accurate', 'minor_inaccurate', 'accurate', '...   \n",
       "3  ['accurate', 'minor_inaccurate', 'minor_inaccu...   \n",
       "4  ['minor_inaccurate', 'minor_inaccurate', 'accu...   \n",
       "\n",
       "                                 gemini_text_samples  \\\n",
       "0  ['Hà Nội, thủ đô của Việt Nam, nằm ở tọa độ đị...   \n",
       "1  ['Thành phố Hồ Chí Minh (TP. HCM) nằm ở phía Đ...   \n",
       "2  ['Vịnh Hạ Long nằm ở phía đông bắc Việt Nam, t...   \n",
       "3  ['Sa Pa là một thị trấn thuộc tỉnh Lào Cai, Vi...   \n",
       "4  ['Đà Nẵng là một thành phố trực thuộc trung ươ...   \n",
       "\n",
       "                                     annotation_note  \n",
       "0  [None, 'Hà Nội chỉ nằm trên lưu vực Sông Hồng ...  \n",
       "1  [None, None, 'Hồ Chí Minh nằm ở hạ lưu sông Sà...  \n",
       "2  [None, '20°54′B 107°12′Đ', None, 'phía Tây và ...  \n",
       "3  [None, '22°20′8″B 103°50′31″Đ', '1.500 m – 1.8...  \n",
       "4  ['16°04′36″B 108°13′22″Đ', '1.284,88 km2, Quản...  "
      ]
     },
     "execution_count": 2,
     "metadata": {},
     "output_type": "execute_result"
    }
   ],
   "source": [
    "df = pd.read_csv('File/Vietnamese_hallucination_annotated.csv')\n",
    "df.head()"
   ]
  },
  {
   "cell_type": "code",
   "execution_count": 3,
   "metadata": {},
   "outputs": [
    {
     "data": {
      "text/html": [
       "<div>\n",
       "<style scoped>\n",
       "    .dataframe tbody tr th:only-of-type {\n",
       "        vertical-align: middle;\n",
       "    }\n",
       "\n",
       "    .dataframe tbody tr th {\n",
       "        vertical-align: top;\n",
       "    }\n",
       "\n",
       "    .dataframe thead th {\n",
       "        text-align: right;\n",
       "    }\n",
       "</style>\n",
       "<table border=\"1\" class=\"dataframe\">\n",
       "  <thead>\n",
       "    <tr style=\"text-align: right;\">\n",
       "      <th></th>\n",
       "      <th>title</th>\n",
       "      <th>sentence</th>\n",
       "      <th>old_annotation</th>\n",
       "      <th>new_annotation</th>\n",
       "      <th>note</th>\n",
       "      <th>check</th>\n",
       "      <th>de_xuat</th>\n",
       "      <th>chú giải</th>\n",
       "      <th>final</th>\n",
       "    </tr>\n",
       "  </thead>\n",
       "  <tbody>\n",
       "    <tr>\n",
       "      <th>0</th>\n",
       "      <td>Chiến tranh Tống–Việt lần thứ nhất</td>\n",
       "      <td>Chiến tranh Tống - Việt lần thứ nhất (1075-107...</td>\n",
       "      <td>minor_inaccurate</td>\n",
       "      <td>major_inaccurate</td>\n",
       "      <td>Cả đoạn này hiểu nhầm sang Tống Việt lần thứ 2...</td>\n",
       "      <td>x</td>\n",
       "      <td>NaN</td>\n",
       "      <td>NaN</td>\n",
       "      <td>minor_inaccurate</td>\n",
       "    </tr>\n",
       "    <tr>\n",
       "      <th>1</th>\n",
       "      <td>Chiến tranh Tống–Việt lần thứ nhất</td>\n",
       "      <td>Chiến thắng này đã bảo vệ vững chắc chủ quyền ...</td>\n",
       "      <td>minor_inaccurate</td>\n",
       "      <td>major_inaccurate</td>\n",
       "      <td>Lãnh thổ của Đại Cồ Việt mới đúng và nhà này đ...</td>\n",
       "      <td>NaN</td>\n",
       "      <td>NaN</td>\n",
       "      <td>NaN</td>\n",
       "      <td>major_inaccurate</td>\n",
       "    </tr>\n",
       "  </tbody>\n",
       "</table>\n",
       "</div>"
      ],
      "text/plain": [
       "                                title  \\\n",
       "0  Chiến tranh Tống–Việt lần thứ nhất   \n",
       "1  Chiến tranh Tống–Việt lần thứ nhất   \n",
       "\n",
       "                                            sentence    old_annotation  \\\n",
       "0  Chiến tranh Tống - Việt lần thứ nhất (1075-107...  minor_inaccurate   \n",
       "1  Chiến thắng này đã bảo vệ vững chắc chủ quyền ...  minor_inaccurate   \n",
       "\n",
       "     new_annotation                                               note check  \\\n",
       "0  major_inaccurate  Cả đoạn này hiểu nhầm sang Tống Việt lần thứ 2...     x   \n",
       "1  major_inaccurate  Lãnh thổ của Đại Cồ Việt mới đúng và nhà này đ...   NaN   \n",
       "\n",
       "  de_xuat chú giải             final  \n",
       "0     NaN      NaN  minor_inaccurate  \n",
       "1     NaN      NaN  major_inaccurate  "
      ]
     },
     "execution_count": 3,
     "metadata": {},
     "output_type": "execute_result"
    }
   ],
   "source": [
    "dc1 = pd.read_csv('File/double_check-1.csv')\n",
    "dc1.head(2)"
   ]
  },
  {
   "cell_type": "code",
   "execution_count": 4,
   "metadata": {},
   "outputs": [
    {
     "data": {
      "text/html": [
       "<div>\n",
       "<style scoped>\n",
       "    .dataframe tbody tr th:only-of-type {\n",
       "        vertical-align: middle;\n",
       "    }\n",
       "\n",
       "    .dataframe tbody tr th {\n",
       "        vertical-align: top;\n",
       "    }\n",
       "\n",
       "    .dataframe thead th {\n",
       "        text-align: right;\n",
       "    }\n",
       "</style>\n",
       "<table border=\"1\" class=\"dataframe\">\n",
       "  <thead>\n",
       "    <tr style=\"text-align: right;\">\n",
       "      <th></th>\n",
       "      <th>title</th>\n",
       "      <th>gemini_sentences</th>\n",
       "      <th>annotation_before</th>\n",
       "      <th>annotation_after</th>\n",
       "      <th>note</th>\n",
       "      <th>check</th>\n",
       "      <th>chú thích</th>\n",
       "      <th>final</th>\n",
       "    </tr>\n",
       "  </thead>\n",
       "  <tbody>\n",
       "    <tr>\n",
       "      <th>0</th>\n",
       "      <td>Hội An</td>\n",
       "      <td>Địa hình của Hội An chủ yếu là đồng bằng ven b...</td>\n",
       "      <td>minor_inaccurate</td>\n",
       "      <td>NaN</td>\n",
       "      <td>Này tìm ko ra thông tin nên cũng ko rõ</td>\n",
       "      <td>NaN</td>\n",
       "      <td>này tui xem gg map, check 4 hướng ntn</td>\n",
       "      <td>minor_inaccurate</td>\n",
       "    </tr>\n",
       "    <tr>\n",
       "      <th>1</th>\n",
       "      <td>Đà Lạt</td>\n",
       "      <td>Đà Lạt nằm ở vị trí 11°55′B 108°28′Đ﻿ / ﻿11.91...</td>\n",
       "      <td>minor_inaccurate</td>\n",
       "      <td>accurate</td>\n",
       "      <td>Tùy lệch nhưng nó nằm trong.</td>\n",
       "      <td>ok</td>\n",
       "      <td>NaN</td>\n",
       "      <td>accurate</td>\n",
       "    </tr>\n",
       "  </tbody>\n",
       "</table>\n",
       "</div>"
      ],
      "text/plain": [
       "    title                                   gemini_sentences  \\\n",
       "0  Hội An  Địa hình của Hội An chủ yếu là đồng bằng ven b...   \n",
       "1  Đà Lạt  Đà Lạt nằm ở vị trí 11°55′B 108°28′Đ﻿ / ﻿11.91...   \n",
       "\n",
       "  annotation_before annotation_after                                    note  \\\n",
       "0  minor_inaccurate              NaN  Này tìm ko ra thông tin nên cũng ko rõ   \n",
       "1  minor_inaccurate         accurate            Tùy lệch nhưng nó nằm trong.   \n",
       "\n",
       "  check                              chú thích             final  \n",
       "0   NaN  này tui xem gg map, check 4 hướng ntn  minor_inaccurate  \n",
       "1    ok                                    NaN          accurate  "
      ]
     },
     "execution_count": 4,
     "metadata": {},
     "output_type": "execute_result"
    }
   ],
   "source": [
    "dc2 = pd.read_csv('File/double_check-2.csv')\n",
    "dc2.head(2)"
   ]
  },
  {
   "cell_type": "code",
   "execution_count": 5,
   "metadata": {},
   "outputs": [],
   "source": [
    "import ast\n",
    "for col in df.columns[2:]:\n",
    "    df[col] = df[col].apply(lambda x: ast.literal_eval(x))"
   ]
  },
  {
   "cell_type": "code",
   "execution_count": 6,
   "metadata": {},
   "outputs": [],
   "source": [
    "for i in range(len(dc1)):\n",
    "    row = dc1.iloc[i]\n",
    "    title = row['title']\n",
    "    sen = row['sentence']\n",
    "    new_annotation = row['final']\n",
    "    # print(title)\n",
    "    # print(sen)\n",
    "    # print(new_annotation)\n",
    "    \n",
    "    break"
   ]
  },
  {
   "cell_type": "code",
   "execution_count": 7,
   "metadata": {},
   "outputs": [
    {
     "data": {
      "text/plain": [
       "0"
      ]
     },
     "execution_count": 7,
     "metadata": {},
     "output_type": "execute_result"
    }
   ],
   "source": [
    "title_matches = df[df['title'] == 'Chiến tranh Tống–Việt lần thứ nhất']\n",
    "\n",
    "title_matches.index\n",
    "sen_idx = df.loc[23, 'gemini_sentences'].index('Chiến tranh Tống - Việt lần thứ nhất (1075-1077) là cuộc chiến tranh bảo vệ lãnh thổ của Đại Việt chống lại sự xâm lược của nhà Tống.')\n",
    "sen_idx"
   ]
  },
  {
   "cell_type": "code",
   "execution_count": 8,
   "metadata": {},
   "outputs": [],
   "source": [
    "# Process each row in dc1 to update annotations in main df\n",
    "for i in range(len(dc1)):\n",
    "    row = dc1.iloc[i]\n",
    "    title = row['title']\n",
    "    sen = row['sentence']\n",
    "    new_annotation = row['final']\n",
    "    \n",
    "    # Find the matching title in main df\n",
    "    title_matches = df[df['title'] == title]\n",
    "    \n",
    "    idx = title_matches.index[0]\n",
    "        # Find the sentence index in the gemini_sentences list\n",
    "    try:\n",
    "        sen_idx = df.loc[idx, 'gemini_sentences'].index(sen)\n",
    "        # Update the annotation at that index\n",
    "        df.loc[idx, 'annotation'][sen_idx] = new_annotation\n",
    "    except:\n",
    "        print(title, sen, new_annotation)"
   ]
  },
  {
   "cell_type": "code",
   "execution_count": 9,
   "metadata": {},
   "outputs": [],
   "source": [
    "for i in range(len(dc2)):\n",
    "    row = dc2.iloc[i]\n",
    "    title = row['title']\n",
    "    sen = row['gemini_sentences']\n",
    "    new_annotation = row['final']\n",
    "    \n",
    "    # Find the matching title in main df\n",
    "    title_matches = df[df['title'] == title]\n",
    "    \n",
    "    idx = title_matches.index[0]\n",
    "        # Find the sentence index in the gemini_sentences list\n",
    "    try:\n",
    "        sen_idx = df.loc[idx, 'gemini_sentences'].index(sen)\n",
    "        # Update the annotation at that index\n",
    "        df.loc[idx, 'annotation'][sen_idx] = new_annotation\n",
    "    except:\n",
    "        print(title, sen, new_annotation)"
   ]
  },
  {
   "cell_type": "code",
   "execution_count": 10,
   "metadata": {},
   "outputs": [],
   "source": [
    "df.to_csv('File/Vietnamese_hallucination_annotated_checked.csv', index=False)"
   ]
  },
  {
   "cell_type": "code",
   "execution_count": 13,
   "metadata": {},
   "outputs": [
    {
     "data": {
      "text/plain": [
       "'minor_inaccurate'"
      ]
     },
     "execution_count": 13,
     "metadata": {},
     "output_type": "execute_result"
    }
   ],
   "source": [
    "title = 'Mai Chí Thọ'\n",
    "sen = 'Ông được biết đến với vai trò là Bí thư Trung ương Đảng, Chủ tịch Ủy ban Trung ương Mặt trận Tổ quốc Việt Nam, và là một trong những người đóng góp quan trọng vào việc xây dựng và phát triển đất nước.'\n",
    "title_matches = df[df['title'] == title]\n",
    "idx = title_matches.index[0]\n",
    "sen_idx = df.loc[idx, 'gemini_sentences'].index(sen)\n",
    "df.loc[idx, 'annotation'][sen_idx]"
   ]
  }
 ],
 "metadata": {
  "kernelspec": {
   "display_name": "selfcheck-env",
   "language": "python",
   "name": "python3"
  },
  "language_info": {
   "codemirror_mode": {
    "name": "ipython",
    "version": 3
   },
   "file_extension": ".py",
   "mimetype": "text/x-python",
   "name": "python",
   "nbconvert_exporter": "python",
   "pygments_lexer": "ipython3",
   "version": "3.10.15"
  }
 },
 "nbformat": 4,
 "nbformat_minor": 2
}
