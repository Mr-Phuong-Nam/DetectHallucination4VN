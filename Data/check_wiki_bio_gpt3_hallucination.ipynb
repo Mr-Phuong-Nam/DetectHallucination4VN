{
 "cells": [
  {
   "cell_type": "code",
   "execution_count": 2,
   "metadata": {},
   "outputs": [],
   "source": [
    "import pandas as pd\n",
    "import numpy as np\n",
    "import json "
   ]
  },
  {
   "cell_type": "code",
   "execution_count": 3,
   "metadata": {},
   "outputs": [
    {
     "data": {
      "text/html": [
       "<div>\n",
       "<style scoped>\n",
       "    .dataframe tbody tr th:only-of-type {\n",
       "        vertical-align: middle;\n",
       "    }\n",
       "\n",
       "    .dataframe tbody tr th {\n",
       "        vertical-align: top;\n",
       "    }\n",
       "\n",
       "    .dataframe thead th {\n",
       "        text-align: right;\n",
       "    }\n",
       "</style>\n",
       "<table border=\"1\" class=\"dataframe\">\n",
       "  <thead>\n",
       "    <tr style=\"text-align: right;\">\n",
       "      <th></th>\n",
       "      <th>gpt3_text</th>\n",
       "      <th>wiki_bio_text</th>\n",
       "      <th>gpt3_sentences</th>\n",
       "      <th>annotation</th>\n",
       "      <th>wiki_bio_test_idx</th>\n",
       "      <th>gpt3_text_samples</th>\n",
       "    </tr>\n",
       "  </thead>\n",
       "  <tbody>\n",
       "    <tr>\n",
       "      <th>0</th>\n",
       "      <td>John Russell Reynolds (1820–1876) was an Engli...</td>\n",
       "      <td>Sir John Russell Reynolds, 1st Baronet (22 May...</td>\n",
       "      <td>['John Russell Reynolds (1820–1876) was an Eng...</td>\n",
       "      <td>['major_inaccurate', 'major_inaccurate', 'majo...</td>\n",
       "      <td>62464</td>\n",
       "      <td>['John Russell Reynolds (1 November 1829  – 11...</td>\n",
       "    </tr>\n",
       "    <tr>\n",
       "      <th>1</th>\n",
       "      <td>Matthew Aylmer, 1st Baron Aylmer (1708–1794) w...</td>\n",
       "      <td>Admiral of the Fleet Matthew Aylmer, 1st Baron...</td>\n",
       "      <td>['Matthew Aylmer, 1st Baron Aylmer (1708–1794)...</td>\n",
       "      <td>['minor_inaccurate', 'minor_inaccurate', 'mino...</td>\n",
       "      <td>49661</td>\n",
       "      <td>['\"Matthew Aylmer, 1st Baron Aylmer (c. 1650–1...</td>\n",
       "    </tr>\n",
       "    <tr>\n",
       "      <th>2</th>\n",
       "      <td>Rick Mahler (born Richard Alan Mahler on April...</td>\n",
       "      <td>Richard Keith Mahler (August 5, 1953 in Austin...</td>\n",
       "      <td>['Rick Mahler (born Richard Alan Mahler on Apr...</td>\n",
       "      <td>['minor_inaccurate', 'minor_inaccurate', 'accu...</td>\n",
       "      <td>20483</td>\n",
       "      <td>['Rick Mahler (January 8, 1956 – May 25, 2005)...</td>\n",
       "    </tr>\n",
       "    <tr>\n",
       "      <th>3</th>\n",
       "      <td>James Blair (1732–1782) was an American lawyer...</td>\n",
       "      <td>James Blair (September 26, 1786 - April 1, 183...</td>\n",
       "      <td>['James Blair (1732–1782) was an American lawy...</td>\n",
       "      <td>['minor_inaccurate', 'major_inaccurate', 'majo...</td>\n",
       "      <td>71174</td>\n",
       "      <td>['James Blair (April 2, 1755 – March 8, 1842) ...</td>\n",
       "    </tr>\n",
       "    <tr>\n",
       "      <th>4</th>\n",
       "      <td>Tim Finchem (born August 24, 1947) is an Ameri...</td>\n",
       "      <td>Timothy W. Finchem (born April 19, 1947) is th...</td>\n",
       "      <td>['Tim Finchem (born August 24, 1947) is an Ame...</td>\n",
       "      <td>['minor_inaccurate', 'accurate', 'major_inaccu...</td>\n",
       "      <td>39945</td>\n",
       "      <td>['\"Tim Finchem (born May 27, 1953) is an Ameri...</td>\n",
       "    </tr>\n",
       "  </tbody>\n",
       "</table>\n",
       "</div>"
      ],
      "text/plain": [
       "                                           gpt3_text  \\\n",
       "0  John Russell Reynolds (1820–1876) was an Engli...   \n",
       "1  Matthew Aylmer, 1st Baron Aylmer (1708–1794) w...   \n",
       "2  Rick Mahler (born Richard Alan Mahler on April...   \n",
       "3  James Blair (1732–1782) was an American lawyer...   \n",
       "4  Tim Finchem (born August 24, 1947) is an Ameri...   \n",
       "\n",
       "                                       wiki_bio_text  \\\n",
       "0  Sir John Russell Reynolds, 1st Baronet (22 May...   \n",
       "1  Admiral of the Fleet Matthew Aylmer, 1st Baron...   \n",
       "2  Richard Keith Mahler (August 5, 1953 in Austin...   \n",
       "3  James Blair (September 26, 1786 - April 1, 183...   \n",
       "4  Timothy W. Finchem (born April 19, 1947) is th...   \n",
       "\n",
       "                                      gpt3_sentences  \\\n",
       "0  ['John Russell Reynolds (1820–1876) was an Eng...   \n",
       "1  ['Matthew Aylmer, 1st Baron Aylmer (1708–1794)...   \n",
       "2  ['Rick Mahler (born Richard Alan Mahler on Apr...   \n",
       "3  ['James Blair (1732–1782) was an American lawy...   \n",
       "4  ['Tim Finchem (born August 24, 1947) is an Ame...   \n",
       "\n",
       "                                          annotation  wiki_bio_test_idx  \\\n",
       "0  ['major_inaccurate', 'major_inaccurate', 'majo...              62464   \n",
       "1  ['minor_inaccurate', 'minor_inaccurate', 'mino...              49661   \n",
       "2  ['minor_inaccurate', 'minor_inaccurate', 'accu...              20483   \n",
       "3  ['minor_inaccurate', 'major_inaccurate', 'majo...              71174   \n",
       "4  ['minor_inaccurate', 'accurate', 'major_inaccu...              39945   \n",
       "\n",
       "                                   gpt3_text_samples  \n",
       "0  ['John Russell Reynolds (1 November 1829  – 11...  \n",
       "1  ['\"Matthew Aylmer, 1st Baron Aylmer (c. 1650–1...  \n",
       "2  ['Rick Mahler (January 8, 1956 – May 25, 2005)...  \n",
       "3  ['James Blair (April 2, 1755 – March 8, 1842) ...  \n",
       "4  ['\"Tim Finchem (born May 27, 1953) is an Ameri...  "
      ]
     },
     "execution_count": 3,
     "metadata": {},
     "output_type": "execute_result"
    }
   ],
   "source": [
    "dataset = pd.read_csv('File/wiki_bio_gpt3_hallucination.csv')\n",
    "dataset.head()"
   ]
  },
  {
   "cell_type": "code",
   "execution_count": 4,
   "metadata": {},
   "outputs": [
    {
     "data": {
      "text/plain": [
       "Index(['gpt3_text', 'wiki_bio_text', 'gpt3_sentences', 'annotation',\n",
       "       'wiki_bio_test_idx', 'gpt3_text_samples'],\n",
       "      dtype='object')"
      ]
     },
     "execution_count": 4,
     "metadata": {},
     "output_type": "execute_result"
    }
   ],
   "source": [
    "# convert list columns to list\n",
    "import ast\n",
    "dataset['gpt3_sentences'] = dataset['gpt3_sentences'].apply(lambda x: ast.literal_eval(str(x)))\n",
    "dataset['annotation'] = dataset['annotation'].apply(lambda x: ast.literal_eval(str(x)))\n",
    "dataset.columns"
   ]
  },
  {
   "cell_type": "code",
   "execution_count": 5,
   "metadata": {},
   "outputs": [
    {
     "name": "stdout",
     "output_type": "stream",
     "text": [
      "num_major_inaccurate: 761\n",
      "num_minor_inaccurate: 631\n",
      "num_accurate: 516\n"
     ]
    }
   ],
   "source": [
    "# count number of sentences in each annotation major_inaccurate, minor_inaccurate, accurate\n",
    "num_major_inaccurate = 0\n",
    "num_minor_inaccurate = 0\n",
    "num_accurate = 0\n",
    "for index, row in dataset.iterrows():\n",
    "    for annotation in row['annotation']:\n",
    "        if annotation == 'major_inaccurate':\n",
    "            num_major_inaccurate += 1\n",
    "        elif annotation == 'minor_inaccurate':\n",
    "            num_minor_inaccurate += 1\n",
    "        elif annotation == 'accurate':\n",
    "            num_accurate += 1\n",
    "print('num_major_inaccurate:', num_major_inaccurate)\n",
    "print('num_minor_inaccurate:', num_minor_inaccurate)\n",
    "print('num_accurate:', num_accurate)"
   ]
  },
  {
   "cell_type": "code",
   "execution_count": 8,
   "metadata": {},
   "outputs": [],
   "source": [
    "# list out major_inaccurate labels with their gpt3_sentences and original full_text\n",
    "major_inaccurate_list = []\n",
    "for index, row in dataset.iterrows():\n",
    "    for i, annotation in enumerate(row['annotation']):\n",
    "        if annotation == 'major_inaccurate':\n",
    "            major_inaccurate_list.append({'gpt3_sentences': row['gpt3_sentences'][i], 'full_text': row['gpt3_text']})"
   ]
  },
  {
   "cell_type": "code",
   "execution_count": 10,
   "metadata": {},
   "outputs": [
    {
     "name": "stdout",
     "output_type": "stream",
     "text": [
      "--> Sentence: John Russell Reynolds (1820–1876) was an English lawyer, judge, and author.\n",
      "--> Full Text: John Russell Reynolds (1820–1876) was an English lawyer, judge, and author. He was born in London, the son of a barrister, and was educated at Eton College and Trinity College, Cambridge. He was called to the bar in 1845, and became a Queen's Counsel in 1859. He was appointed a judge of the Court of Common Pleas in 1867, and was knighted in 1871.\n",
      "\n",
      "Reynolds was a prolific author, writing on a wide range of topics. He wrote several books on legal topics, including The Law of Libel and Slander (1863), The Law of Copyright (1865), and The Law of Patents for Inventions (1868). He also wrote on a variety of other topics, including history, biography, and literature. He was a frequent contributor to the Saturday Review, and wrote several books on Shakespeare, including The Mystery of William Shakespeare (1848) and The Authorship of Shakespeare (1875). He also wrote a biography of the poet John Keats (1848).\n",
      "--> Sentence: He was born in London, the son of a barrister, and was educated at Eton College and Trinity College, Cambridge.\n",
      "--> Full Text: John Russell Reynolds (1820–1876) was an English lawyer, judge, and author. He was born in London, the son of a barrister, and was educated at Eton College and Trinity College, Cambridge. He was called to the bar in 1845, and became a Queen's Counsel in 1859. He was appointed a judge of the Court of Common Pleas in 1867, and was knighted in 1871.\n",
      "\n",
      "Reynolds was a prolific author, writing on a wide range of topics. He wrote several books on legal topics, including The Law of Libel and Slander (1863), The Law of Copyright (1865), and The Law of Patents for Inventions (1868). He also wrote on a variety of other topics, including history, biography, and literature. He was a frequent contributor to the Saturday Review, and wrote several books on Shakespeare, including The Mystery of William Shakespeare (1848) and The Authorship of Shakespeare (1875). He also wrote a biography of the poet John Keats (1848).\n",
      "--> Sentence: He was called to the bar in 1845, and became a Queen's Counsel in 1859.\n",
      "--> Full Text: John Russell Reynolds (1820–1876) was an English lawyer, judge, and author. He was born in London, the son of a barrister, and was educated at Eton College and Trinity College, Cambridge. He was called to the bar in 1845, and became a Queen's Counsel in 1859. He was appointed a judge of the Court of Common Pleas in 1867, and was knighted in 1871.\n",
      "\n",
      "Reynolds was a prolific author, writing on a wide range of topics. He wrote several books on legal topics, including The Law of Libel and Slander (1863), The Law of Copyright (1865), and The Law of Patents for Inventions (1868). He also wrote on a variety of other topics, including history, biography, and literature. He was a frequent contributor to the Saturday Review, and wrote several books on Shakespeare, including The Mystery of William Shakespeare (1848) and The Authorship of Shakespeare (1875). He also wrote a biography of the poet John Keats (1848).\n",
      "--> Sentence: He was appointed a judge of the Court of Common Pleas in 1867, and was knighted in 1871.\n",
      "--> Full Text: John Russell Reynolds (1820–1876) was an English lawyer, judge, and author. He was born in London, the son of a barrister, and was educated at Eton College and Trinity College, Cambridge. He was called to the bar in 1845, and became a Queen's Counsel in 1859. He was appointed a judge of the Court of Common Pleas in 1867, and was knighted in 1871.\n",
      "\n",
      "Reynolds was a prolific author, writing on a wide range of topics. He wrote several books on legal topics, including The Law of Libel and Slander (1863), The Law of Copyright (1865), and The Law of Patents for Inventions (1868). He also wrote on a variety of other topics, including history, biography, and literature. He was a frequent contributor to the Saturday Review, and wrote several books on Shakespeare, including The Mystery of William Shakespeare (1848) and The Authorship of Shakespeare (1875). He also wrote a biography of the poet John Keats (1848).\n",
      "--> Sentence: Reynolds was a prolific author, writing on a wide range of topics.\n",
      "--> Full Text: John Russell Reynolds (1820–1876) was an English lawyer, judge, and author. He was born in London, the son of a barrister, and was educated at Eton College and Trinity College, Cambridge. He was called to the bar in 1845, and became a Queen's Counsel in 1859. He was appointed a judge of the Court of Common Pleas in 1867, and was knighted in 1871.\n",
      "\n",
      "Reynolds was a prolific author, writing on a wide range of topics. He wrote several books on legal topics, including The Law of Libel and Slander (1863), The Law of Copyright (1865), and The Law of Patents for Inventions (1868). He also wrote on a variety of other topics, including history, biography, and literature. He was a frequent contributor to the Saturday Review, and wrote several books on Shakespeare, including The Mystery of William Shakespeare (1848) and The Authorship of Shakespeare (1875). He also wrote a biography of the poet John Keats (1848).\n"
     ]
    }
   ],
   "source": [
    "for i in range(5):\n",
    "    print(\"--> Sentence:\", major_inaccurate_list[i]['gpt3_sentences'])\n",
    "    print(\"--> Full Text:\", major_inaccurate_list[i]['full_text'])"
   ]
  },
  {
   "cell_type": "code",
   "execution_count": 11,
   "metadata": {},
   "outputs": [],
   "source": [
    "# save file to csv\n",
    "dataset.to_csv('dataset.csv', index=False)"
   ]
  }
 ],
 "metadata": {
  "kernelspec": {
   "display_name": "selfcheck-env",
   "language": "python",
   "name": "python3"
  },
  "language_info": {
   "codemirror_mode": {
    "name": "ipython",
    "version": 3
   },
   "file_extension": ".py",
   "mimetype": "text/x-python",
   "name": "python",
   "nbconvert_exporter": "python",
   "pygments_lexer": "ipython3",
   "version": "3.10.15"
  }
 },
 "nbformat": 4,
 "nbformat_minor": 2
}
