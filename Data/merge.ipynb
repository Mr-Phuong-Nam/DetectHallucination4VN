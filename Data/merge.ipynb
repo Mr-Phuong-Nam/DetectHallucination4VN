{
 "cells": [
  {
   "cell_type": "code",
   "execution_count": 1,
   "metadata": {},
   "outputs": [
    {
     "data": {
      "text/html": [
       "<div>\n",
       "<style scoped>\n",
       "    .dataframe tbody tr th:only-of-type {\n",
       "        vertical-align: middle;\n",
       "    }\n",
       "\n",
       "    .dataframe tbody tr th {\n",
       "        vertical-align: top;\n",
       "    }\n",
       "\n",
       "    .dataframe thead th {\n",
       "        text-align: right;\n",
       "    }\n",
       "</style>\n",
       "<table border=\"1\" class=\"dataframe\">\n",
       "  <thead>\n",
       "    <tr style=\"text-align: right;\">\n",
       "      <th></th>\n",
       "      <th>title</th>\n",
       "      <th>gemini_text</th>\n",
       "      <th>gemini_sentences</th>\n",
       "      <th>annotation</th>\n",
       "      <th>gemini_text_samples</th>\n",
       "      <th>annotation_note</th>\n",
       "    </tr>\n",
       "  </thead>\n",
       "  <tbody>\n",
       "    <tr>\n",
       "      <th>0</th>\n",
       "      <td>Hà Nội</td>\n",
       "      <td>Hà Nội, thủ đô của Việt Nam, nằm ở vị trí 21°0...</td>\n",
       "      <td>['Hà Nội, thủ đô của Việt Nam, nằm ở vị trí 21...</td>\n",
       "      <td>['0', '0.5', '0', '0.5', '0.5', '0']</td>\n",
       "      <td>['Hà Nội, thủ đô của Việt Nam, nằm ở tọa độ đị...</td>\n",
       "      <td>[None, 'Hà Nội chỉ nằm trên lưu vực Sông Hồng ...</td>\n",
       "    </tr>\n",
       "  </tbody>\n",
       "</table>\n",
       "</div>"
      ],
      "text/plain": [
       "    title                                        gemini_text  \\\n",
       "0  Hà Nội  Hà Nội, thủ đô của Việt Nam, nằm ở vị trí 21°0...   \n",
       "\n",
       "                                    gemini_sentences  \\\n",
       "0  ['Hà Nội, thủ đô của Việt Nam, nằm ở vị trí 21...   \n",
       "\n",
       "                             annotation  \\\n",
       "0  ['0', '0.5', '0', '0.5', '0.5', '0']   \n",
       "\n",
       "                                 gemini_text_samples  \\\n",
       "0  ['Hà Nội, thủ đô của Việt Nam, nằm ở tọa độ đị...   \n",
       "\n",
       "                                     annotation_note  \n",
       "0  [None, 'Hà Nội chỉ nằm trên lưu vực Sông Hồng ...  "
      ]
     },
     "execution_count": 1,
     "metadata": {},
     "output_type": "execute_result"
    }
   ],
   "source": [
    "import pandas as pd\n",
    "\n",
    "df_geo = pd.read_csv(\"./File/geographical_places_dataset_2.csv\")\n",
    "df_geo.head(1)"
   ]
  },
  {
   "cell_type": "code",
   "execution_count": 2,
   "metadata": {},
   "outputs": [
    {
     "data": {
      "text/html": [
       "<div>\n",
       "<style scoped>\n",
       "    .dataframe tbody tr th:only-of-type {\n",
       "        vertical-align: middle;\n",
       "    }\n",
       "\n",
       "    .dataframe tbody tr th {\n",
       "        vertical-align: top;\n",
       "    }\n",
       "\n",
       "    .dataframe thead th {\n",
       "        text-align: right;\n",
       "    }\n",
       "</style>\n",
       "<table border=\"1\" class=\"dataframe\">\n",
       "  <thead>\n",
       "    <tr style=\"text-align: right;\">\n",
       "      <th></th>\n",
       "      <th>title</th>\n",
       "      <th>gemini_text</th>\n",
       "      <th>gemini_sentences</th>\n",
       "      <th>annotation</th>\n",
       "      <th>gemini_text_samples</th>\n",
       "      <th>annotation_note</th>\n",
       "    </tr>\n",
       "  </thead>\n",
       "  <tbody>\n",
       "    <tr>\n",
       "      <th>0</th>\n",
       "      <td>Hồ Chí Minh</td>\n",
       "      <td>Hồ Chí Minh (1890-1969), tên khai sinh là Nguy...</td>\n",
       "      <td>['Hồ Chí Minh (1890-1969), tên khai sinh là Ng...</td>\n",
       "      <td>['0', '0', '0', '0', '0']</td>\n",
       "      <td>['Hồ Chí Minh (1890-1969), tên khai sinh là Ng...</td>\n",
       "      <td>[None, None, None, None, None]</td>\n",
       "    </tr>\n",
       "  </tbody>\n",
       "</table>\n",
       "</div>"
      ],
      "text/plain": [
       "         title                                        gemini_text  \\\n",
       "0  Hồ Chí Minh  Hồ Chí Minh (1890-1969), tên khai sinh là Nguy...   \n",
       "\n",
       "                                    gemini_sentences  \\\n",
       "0  ['Hồ Chí Minh (1890-1969), tên khai sinh là Ng...   \n",
       "\n",
       "                  annotation  \\\n",
       "0  ['0', '0', '0', '0', '0']   \n",
       "\n",
       "                                 gemini_text_samples  \\\n",
       "0  ['Hồ Chí Minh (1890-1969), tên khai sinh là Ng...   \n",
       "\n",
       "                  annotation_note  \n",
       "0  [None, None, None, None, None]  "
      ]
     },
     "execution_count": 2,
     "metadata": {},
     "output_type": "execute_result"
    }
   ],
   "source": [
    "df_his = pd.read_csv(\"./File/historical_figures_dataset.csv\")\n",
    "df_his.head(1)"
   ]
  },
  {
   "cell_type": "code",
   "execution_count": 3,
   "metadata": {},
   "outputs": [
    {
     "data": {
      "text/plain": [
       "20"
      ]
     },
     "execution_count": 3,
     "metadata": {},
     "output_type": "execute_result"
    }
   ],
   "source": [
    "merged_df = pd.concat([df_geo, df_his], axis=0)\n",
    "len(merged_df)"
   ]
  },
  {
   "cell_type": "code",
   "execution_count": 4,
   "metadata": {},
   "outputs": [
    {
     "data": {
      "text/html": [
       "<div>\n",
       "<style scoped>\n",
       "    .dataframe tbody tr th:only-of-type {\n",
       "        vertical-align: middle;\n",
       "    }\n",
       "\n",
       "    .dataframe tbody tr th {\n",
       "        vertical-align: top;\n",
       "    }\n",
       "\n",
       "    .dataframe thead th {\n",
       "        text-align: right;\n",
       "    }\n",
       "</style>\n",
       "<table border=\"1\" class=\"dataframe\">\n",
       "  <thead>\n",
       "    <tr style=\"text-align: right;\">\n",
       "      <th></th>\n",
       "      <th>title</th>\n",
       "      <th>gemini_text</th>\n",
       "      <th>gemini_sentences</th>\n",
       "      <th>annotation</th>\n",
       "      <th>gemini_text_samples</th>\n",
       "    </tr>\n",
       "  </thead>\n",
       "  <tbody>\n",
       "    <tr>\n",
       "      <th>0</th>\n",
       "      <td>Khởi nghĩa Hai Bà Trưng</td>\n",
       "      <td>Khởi nghĩa Hai Bà Trưng là một cuộc khởi nghĩa...</td>\n",
       "      <td>['Khởi nghĩa Hai Bà Trưng là một cuộc khởi ngh...</td>\n",
       "      <td>['accurate', 'minor_inaccurate', 'accurate', '...</td>\n",
       "      <td>['Khởi nghĩa Hai Bà Trưng là một cuộc khởi ngh...</td>\n",
       "    </tr>\n",
       "  </tbody>\n",
       "</table>\n",
       "</div>"
      ],
      "text/plain": [
       "                     title                                        gemini_text  \\\n",
       "0  Khởi nghĩa Hai Bà Trưng  Khởi nghĩa Hai Bà Trưng là một cuộc khởi nghĩa...   \n",
       "\n",
       "                                    gemini_sentences  \\\n",
       "0  ['Khởi nghĩa Hai Bà Trưng là một cuộc khởi ngh...   \n",
       "\n",
       "                                          annotation  \\\n",
       "0  ['accurate', 'minor_inaccurate', 'accurate', '...   \n",
       "\n",
       "                                 gemini_text_samples  \n",
       "0  ['Khởi nghĩa Hai Bà Trưng là một cuộc khởi ngh...  "
      ]
     },
     "execution_count": 4,
     "metadata": {},
     "output_type": "execute_result"
    }
   ],
   "source": [
    "df_34 = pd.read_csv(\"./File/Vietnamese_hallucination_34_annotated.csv\")\n",
    "df_34.head(1)"
   ]
  },
  {
   "cell_type": "code",
   "execution_count": 5,
   "metadata": {},
   "outputs": [
    {
     "data": {
      "text/plain": [
       "25"
      ]
     },
     "execution_count": 5,
     "metadata": {},
     "output_type": "execute_result"
    }
   ],
   "source": [
    "len(df_his.loc[0, 'annotation'])"
   ]
  },
  {
   "cell_type": "code",
   "execution_count": 6,
   "metadata": {},
   "outputs": [
    {
     "name": "stdout",
     "output_type": "stream",
     "text": [
      "{'0': 'accurate', '0.5': 'minor_inaccurate', '1.0': 'major_inaccurate'}\n"
     ]
    },
    {
     "data": {
      "text/html": [
       "<div>\n",
       "<style scoped>\n",
       "    .dataframe tbody tr th:only-of-type {\n",
       "        vertical-align: middle;\n",
       "    }\n",
       "\n",
       "    .dataframe tbody tr th {\n",
       "        vertical-align: top;\n",
       "    }\n",
       "\n",
       "    .dataframe thead th {\n",
       "        text-align: right;\n",
       "    }\n",
       "</style>\n",
       "<table border=\"1\" class=\"dataframe\">\n",
       "  <thead>\n",
       "    <tr style=\"text-align: right;\">\n",
       "      <th></th>\n",
       "      <th>title</th>\n",
       "      <th>gemini_text</th>\n",
       "      <th>gemini_sentences</th>\n",
       "      <th>annotation</th>\n",
       "      <th>gemini_text_samples</th>\n",
       "      <th>annotation_note</th>\n",
       "    </tr>\n",
       "  </thead>\n",
       "  <tbody>\n",
       "    <tr>\n",
       "      <th>0</th>\n",
       "      <td>Hà Nội</td>\n",
       "      <td>Hà Nội, thủ đô của Việt Nam, nằm ở vị trí 21°0...</td>\n",
       "      <td>['Hà Nội, thủ đô của Việt Nam, nằm ở vị trí 21...</td>\n",
       "      <td>[accurate, minor_inaccurate, accurate, minor_i...</td>\n",
       "      <td>['Hà Nội, thủ đô của Việt Nam, nằm ở tọa độ đị...</td>\n",
       "      <td>[None, 'Hà Nội chỉ nằm trên lưu vực Sông Hồng ...</td>\n",
       "    </tr>\n",
       "    <tr>\n",
       "      <th>1</th>\n",
       "      <td>Thành phố Hồ Chí Minh</td>\n",
       "      <td>Thành phố Hồ Chí Minh (TP.HCM) nằm ở phía Đông...</td>\n",
       "      <td>['Thành phố Hồ Chí Minh (TP.HCM) nằm ở phía Đô...</td>\n",
       "      <td>[accurate, accurate, minor_inaccurate, minor_i...</td>\n",
       "      <td>['Thành phố Hồ Chí Minh (TP. HCM) nằm ở phía Đ...</td>\n",
       "      <td>[None, None, 'Hồ Chí Minh nằm ở hạ lưu sông Sà...</td>\n",
       "    </tr>\n",
       "    <tr>\n",
       "      <th>2</th>\n",
       "      <td>Vịnh Hạ Long</td>\n",
       "      <td>Vịnh Hạ Long nằm ở phía đông bắc Việt Nam, thu...</td>\n",
       "      <td>['Vịnh Hạ Long nằm ở phía đông bắc Việt Nam, t...</td>\n",
       "      <td>[accurate, minor_inaccurate, accurate, minor_i...</td>\n",
       "      <td>['Vịnh Hạ Long nằm ở phía đông bắc Việt Nam, t...</td>\n",
       "      <td>[None, '20°54′B 107°12′Đ', None, 'phía Tây và ...</td>\n",
       "    </tr>\n",
       "    <tr>\n",
       "      <th>3</th>\n",
       "      <td>Sapa</td>\n",
       "      <td>Sa Pa là một thị trấn thuộc tỉnh Lào Cai, Việt...</td>\n",
       "      <td>['Sa Pa là một thị trấn thuộc tỉnh Lào Cai, Vi...</td>\n",
       "      <td>[accurate, minor_inaccurate, minor_inaccurate,...</td>\n",
       "      <td>['Sa Pa là một thị trấn thuộc tỉnh Lào Cai, Vi...</td>\n",
       "      <td>[None, '22°20′8″B 103°50′31″Đ', '1.500 m – 1.8...</td>\n",
       "    </tr>\n",
       "    <tr>\n",
       "      <th>4</th>\n",
       "      <td>Đà Nẵng</td>\n",
       "      <td>Đà Nẵng là một thành phố ven biển thuộc miền T...</td>\n",
       "      <td>['Đà Nẵng là một thành phố ven biển thuộc miền...</td>\n",
       "      <td>[minor_inaccurate, minor_inaccurate, accurate,...</td>\n",
       "      <td>['Đà Nẵng là một thành phố trực thuộc trung ươ...</td>\n",
       "      <td>['16°04′36″B 108°13′22″Đ', '1.284,88 km2, Quản...</td>\n",
       "    </tr>\n",
       "  </tbody>\n",
       "</table>\n",
       "</div>"
      ],
      "text/plain": [
       "                   title                                        gemini_text  \\\n",
       "0                 Hà Nội  Hà Nội, thủ đô của Việt Nam, nằm ở vị trí 21°0...   \n",
       "1  Thành phố Hồ Chí Minh  Thành phố Hồ Chí Minh (TP.HCM) nằm ở phía Đông...   \n",
       "2           Vịnh Hạ Long  Vịnh Hạ Long nằm ở phía đông bắc Việt Nam, thu...   \n",
       "3                   Sapa  Sa Pa là một thị trấn thuộc tỉnh Lào Cai, Việt...   \n",
       "4                Đà Nẵng  Đà Nẵng là một thành phố ven biển thuộc miền T...   \n",
       "\n",
       "                                    gemini_sentences  \\\n",
       "0  ['Hà Nội, thủ đô của Việt Nam, nằm ở vị trí 21...   \n",
       "1  ['Thành phố Hồ Chí Minh (TP.HCM) nằm ở phía Đô...   \n",
       "2  ['Vịnh Hạ Long nằm ở phía đông bắc Việt Nam, t...   \n",
       "3  ['Sa Pa là một thị trấn thuộc tỉnh Lào Cai, Vi...   \n",
       "4  ['Đà Nẵng là một thành phố ven biển thuộc miền...   \n",
       "\n",
       "                                          annotation  \\\n",
       "0  [accurate, minor_inaccurate, accurate, minor_i...   \n",
       "1  [accurate, accurate, minor_inaccurate, minor_i...   \n",
       "2  [accurate, minor_inaccurate, accurate, minor_i...   \n",
       "3  [accurate, minor_inaccurate, minor_inaccurate,...   \n",
       "4  [minor_inaccurate, minor_inaccurate, accurate,...   \n",
       "\n",
       "                                 gemini_text_samples  \\\n",
       "0  ['Hà Nội, thủ đô của Việt Nam, nằm ở tọa độ đị...   \n",
       "1  ['Thành phố Hồ Chí Minh (TP. HCM) nằm ở phía Đ...   \n",
       "2  ['Vịnh Hạ Long nằm ở phía đông bắc Việt Nam, t...   \n",
       "3  ['Sa Pa là một thị trấn thuộc tỉnh Lào Cai, Vi...   \n",
       "4  ['Đà Nẵng là một thành phố trực thuộc trung ươ...   \n",
       "\n",
       "                                     annotation_note  \n",
       "0  [None, 'Hà Nội chỉ nằm trên lưu vực Sông Hồng ...  \n",
       "1  [None, None, 'Hồ Chí Minh nằm ở hạ lưu sông Sà...  \n",
       "2  [None, '20°54′B 107°12′Đ', None, 'phía Tây và ...  \n",
       "3  [None, '22°20′8″B 103°50′31″Đ', '1.500 m – 1.8...  \n",
       "4  ['16°04′36″B 108°13′22″Đ', '1.284,88 km2, Quản...  "
      ]
     },
     "execution_count": 6,
     "metadata": {},
     "output_type": "execute_result"
    }
   ],
   "source": [
    "# add annotation_note column to df_34 with None array have the same length with annotation column\n",
    "from ast import literal_eval\n",
    "label_mapping = {\n",
    "    'accurate': \"0\",\n",
    "    'minor_inaccurate': \"0.5\",\n",
    "    'major_inaccurate': \"1.0\",\n",
    "}\n",
    "# revert label_mapping\n",
    "label_mapping = {v: k for k, v in label_mapping.items()}\n",
    "def safe_literal_eval(val):\n",
    "    try:\n",
    "        return literal_eval(val)\n",
    "    except (ValueError, SyntaxError):\n",
    "        return val\n",
    "print(label_mapping)\n",
    "def prepare(df, replace_label=True):\n",
    "    df['annotation'] = df['annotation'].apply(safe_literal_eval)\n",
    "    if 'annotation_note' not in df.columns:\n",
    "        df['annotation_note'] = df['annotation'].apply(lambda x: [None] * len(x))\n",
    "    if replace_label:\n",
    "        df['annotation'] = df['annotation'].apply(lambda x: [label_mapping.get(i) for i in x])\n",
    "    return df\n",
    "df_34 = prepare(df_34, replace_label=False)\n",
    "merged_df = prepare(merged_df)\n",
    "finnal_df = pd.concat([merged_df, df_34], axis=0)\n",
    "finnal_df.head()"
   ]
  },
  {
   "cell_type": "code",
   "execution_count": 7,
   "metadata": {},
   "outputs": [],
   "source": [
    "finnal_df.to_csv(\"./File/Vietnamese_hallucination_annotated.csv\", index=False)"
   ]
  }
 ],
 "metadata": {
  "kernelspec": {
   "display_name": "selfcheck-env",
   "language": "python",
   "name": "python3"
  },
  "language_info": {
   "codemirror_mode": {
    "name": "ipython",
    "version": 3
   },
   "file_extension": ".py",
   "mimetype": "text/x-python",
   "name": "python",
   "nbconvert_exporter": "python",
   "pygments_lexer": "ipython3",
   "version": "3.10.15"
  }
 },
 "nbformat": 4,
 "nbformat_minor": 2
}
