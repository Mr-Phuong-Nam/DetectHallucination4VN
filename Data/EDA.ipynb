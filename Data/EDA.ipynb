{
 "cells": [
  {
   "cell_type": "markdown",
   "metadata": {},
   "source": []
  },
  {
   "cell_type": "code",
   "execution_count": 50,
   "metadata": {},
   "outputs": [],
   "source": [
    "import pandas as pd\n",
    "import numpy as np\n",
    "import matplotlib.pyplot as plt\n",
    "import seaborn as sns"
   ]
  },
  {
   "cell_type": "code",
   "execution_count": 51,
   "metadata": {},
   "outputs": [
    {
     "data": {
      "text/html": [
       "<div>\n",
       "<style scoped>\n",
       "    .dataframe tbody tr th:only-of-type {\n",
       "        vertical-align: middle;\n",
       "    }\n",
       "\n",
       "    .dataframe tbody tr th {\n",
       "        vertical-align: top;\n",
       "    }\n",
       "\n",
       "    .dataframe thead th {\n",
       "        text-align: right;\n",
       "    }\n",
       "</style>\n",
       "<table border=\"1\" class=\"dataframe\">\n",
       "  <thead>\n",
       "    <tr style=\"text-align: right;\">\n",
       "      <th></th>\n",
       "      <th>title</th>\n",
       "      <th>gemini_text</th>\n",
       "      <th>gemini_sentences</th>\n",
       "      <th>annotation</th>\n",
       "      <th>gemini_text_samples</th>\n",
       "      <th>annotation_note</th>\n",
       "    </tr>\n",
       "  </thead>\n",
       "  <tbody>\n",
       "    <tr>\n",
       "      <th>0</th>\n",
       "      <td>Hà Nội</td>\n",
       "      <td>Hà Nội, thủ đô của Việt Nam, nằm ở vị trí 21°0...</td>\n",
       "      <td>['Hà Nội, thủ đô của Việt Nam, nằm ở vị trí 21...</td>\n",
       "      <td>['accurate', 'minor_inaccurate', 'accurate', '...</td>\n",
       "      <td>['Hà Nội, thủ đô của Việt Nam, nằm ở tọa độ đị...</td>\n",
       "      <td>[None, 'Hà Nội chỉ nằm trên lưu vực Sông Hồng ...</td>\n",
       "    </tr>\n",
       "    <tr>\n",
       "      <th>1</th>\n",
       "      <td>Thành phố Hồ Chí Minh</td>\n",
       "      <td>Thành phố Hồ Chí Minh (TP.HCM) nằm ở phía Đông...</td>\n",
       "      <td>['Thành phố Hồ Chí Minh (TP.HCM) nằm ở phía Đô...</td>\n",
       "      <td>['accurate', 'accurate', 'minor_inaccurate', '...</td>\n",
       "      <td>['Thành phố Hồ Chí Minh (TP. HCM) nằm ở phía Đ...</td>\n",
       "      <td>[None, None, 'Hồ Chí Minh nằm ở hạ lưu sông Sà...</td>\n",
       "    </tr>\n",
       "    <tr>\n",
       "      <th>2</th>\n",
       "      <td>Vịnh Hạ Long</td>\n",
       "      <td>Vịnh Hạ Long nằm ở phía đông bắc Việt Nam, thu...</td>\n",
       "      <td>['Vịnh Hạ Long nằm ở phía đông bắc Việt Nam, t...</td>\n",
       "      <td>['accurate', 'minor_inaccurate', 'accurate', '...</td>\n",
       "      <td>['Vịnh Hạ Long nằm ở phía đông bắc Việt Nam, t...</td>\n",
       "      <td>[None, '20°54′B 107°12′Đ', None, 'phía Tây và ...</td>\n",
       "    </tr>\n",
       "    <tr>\n",
       "      <th>3</th>\n",
       "      <td>Sapa</td>\n",
       "      <td>Sa Pa là một thị trấn thuộc tỉnh Lào Cai, Việt...</td>\n",
       "      <td>['Sa Pa là một thị trấn thuộc tỉnh Lào Cai, Vi...</td>\n",
       "      <td>['accurate', 'minor_inaccurate', 'minor_inaccu...</td>\n",
       "      <td>['Sa Pa là một thị trấn thuộc tỉnh Lào Cai, Vi...</td>\n",
       "      <td>[None, '22°20′8″B 103°50′31″Đ', '1.500 m – 1.8...</td>\n",
       "    </tr>\n",
       "    <tr>\n",
       "      <th>4</th>\n",
       "      <td>Đà Nẵng</td>\n",
       "      <td>Đà Nẵng là một thành phố ven biển thuộc miền T...</td>\n",
       "      <td>['Đà Nẵng là một thành phố ven biển thuộc miền...</td>\n",
       "      <td>['minor_inaccurate', 'minor_inaccurate', 'accu...</td>\n",
       "      <td>['Đà Nẵng là một thành phố trực thuộc trung ươ...</td>\n",
       "      <td>['16°04′36″B 108°13′22″Đ', '1.284,88 km2, Quản...</td>\n",
       "    </tr>\n",
       "  </tbody>\n",
       "</table>\n",
       "</div>"
      ],
      "text/plain": [
       "                   title                                        gemini_text  \\\n",
       "0                 Hà Nội  Hà Nội, thủ đô của Việt Nam, nằm ở vị trí 21°0...   \n",
       "1  Thành phố Hồ Chí Minh  Thành phố Hồ Chí Minh (TP.HCM) nằm ở phía Đông...   \n",
       "2           Vịnh Hạ Long  Vịnh Hạ Long nằm ở phía đông bắc Việt Nam, thu...   \n",
       "3                   Sapa  Sa Pa là một thị trấn thuộc tỉnh Lào Cai, Việt...   \n",
       "4                Đà Nẵng  Đà Nẵng là một thành phố ven biển thuộc miền T...   \n",
       "\n",
       "                                    gemini_sentences  \\\n",
       "0  ['Hà Nội, thủ đô của Việt Nam, nằm ở vị trí 21...   \n",
       "1  ['Thành phố Hồ Chí Minh (TP.HCM) nằm ở phía Đô...   \n",
       "2  ['Vịnh Hạ Long nằm ở phía đông bắc Việt Nam, t...   \n",
       "3  ['Sa Pa là một thị trấn thuộc tỉnh Lào Cai, Vi...   \n",
       "4  ['Đà Nẵng là một thành phố ven biển thuộc miền...   \n",
       "\n",
       "                                          annotation  \\\n",
       "0  ['accurate', 'minor_inaccurate', 'accurate', '...   \n",
       "1  ['accurate', 'accurate', 'minor_inaccurate', '...   \n",
       "2  ['accurate', 'minor_inaccurate', 'accurate', '...   \n",
       "3  ['accurate', 'minor_inaccurate', 'minor_inaccu...   \n",
       "4  ['minor_inaccurate', 'minor_inaccurate', 'accu...   \n",
       "\n",
       "                                 gemini_text_samples  \\\n",
       "0  ['Hà Nội, thủ đô của Việt Nam, nằm ở tọa độ đị...   \n",
       "1  ['Thành phố Hồ Chí Minh (TP. HCM) nằm ở phía Đ...   \n",
       "2  ['Vịnh Hạ Long nằm ở phía đông bắc Việt Nam, t...   \n",
       "3  ['Sa Pa là một thị trấn thuộc tỉnh Lào Cai, Vi...   \n",
       "4  ['Đà Nẵng là một thành phố trực thuộc trung ươ...   \n",
       "\n",
       "                                     annotation_note  \n",
       "0  [None, 'Hà Nội chỉ nằm trên lưu vực Sông Hồng ...  \n",
       "1  [None, None, 'Hồ Chí Minh nằm ở hạ lưu sông Sà...  \n",
       "2  [None, '20°54′B 107°12′Đ', None, 'phía Tây và ...  \n",
       "3  [None, '22°20′8″B 103°50′31″Đ', '1.500 m – 1.8...  \n",
       "4  ['16°04′36″B 108°13′22″Đ', '1.284,88 km2, Quản...  "
      ]
     },
     "execution_count": 51,
     "metadata": {},
     "output_type": "execute_result"
    }
   ],
   "source": [
    "df = pd.read_csv('File/Vietnamese_hallucination_annotated_checked.csv')\n",
    "df.head()"
   ]
  },
  {
   "cell_type": "code",
   "execution_count": 52,
   "metadata": {},
   "outputs": [],
   "source": [
    "import ast\n",
    "for col in df.columns[2:]:\n",
    "    df[col] = df[col].apply(lambda x: ast.literal_eval(x))"
   ]
  },
  {
   "cell_type": "code",
   "execution_count": 53,
   "metadata": {},
   "outputs": [
    {
     "data": {
      "text/plain": [
       "['gemini_sentences', 'annotation', 'gemini_text_samples', 'annotation_note']"
      ]
     },
     "execution_count": 53,
     "metadata": {},
     "output_type": "execute_result"
    }
   ],
   "source": [
    "df.columns[2:].to_list()"
   ]
  },
  {
   "cell_type": "code",
   "execution_count": 54,
   "metadata": {},
   "outputs": [
    {
     "name": "stdout",
     "output_type": "stream",
     "text": [
      "Total number of sentences:  210\n",
      "- accurate: 131 (62.38%)\n",
      "- minor_inaccurate: 62 (29.52%)\n",
      "- major_inaccurate: 17 (8.10%)\n"
     ]
    }
   ],
   "source": [
    "# count number of values in each label from annotation\n",
    "from collections import Counter\n",
    "label_count = Counter()\n",
    "for i in df['annotation']:\n",
    "    label_count.update(i)\n",
    "total = sum(label_count.values())\n",
    "print(\"Total number of sentences: \", total)\n",
    "for key, value in label_count.items():\n",
    "    print(\"- {}: {} ({:.2f}%)\".format(key, value, value/total*100))\n",
    "    "
   ]
  },
  {
   "cell_type": "code",
   "execution_count": 55,
   "metadata": {},
   "outputs": [],
   "source": [
    "map_label = {\n",
    "    'accurate': 0.0,\n",
    "    'minor_inaccurate': 0.5,\n",
    "    'major_inaccurate': 1.0,\n",
    "}"
   ]
  },
  {
   "cell_type": "code",
   "execution_count": 56,
   "metadata": {},
   "outputs": [
    {
     "data": {
      "text/html": [
       "<div>\n",
       "<style scoped>\n",
       "    .dataframe tbody tr th:only-of-type {\n",
       "        vertical-align: middle;\n",
       "    }\n",
       "\n",
       "    .dataframe tbody tr th {\n",
       "        vertical-align: top;\n",
       "    }\n",
       "\n",
       "    .dataframe thead th {\n",
       "        text-align: right;\n",
       "    }\n",
       "</style>\n",
       "<table border=\"1\" class=\"dataframe\">\n",
       "  <thead>\n",
       "    <tr style=\"text-align: right;\">\n",
       "      <th></th>\n",
       "      <th>title</th>\n",
       "      <th>gemini_text</th>\n",
       "      <th>gemini_sentences</th>\n",
       "      <th>annotation</th>\n",
       "      <th>gemini_text_samples</th>\n",
       "      <th>annotation_note</th>\n",
       "      <th>mapped_annotation</th>\n",
       "      <th>document_factuatily_score</th>\n",
       "    </tr>\n",
       "  </thead>\n",
       "  <tbody>\n",
       "    <tr>\n",
       "      <th>0</th>\n",
       "      <td>Hà Nội</td>\n",
       "      <td>Hà Nội, thủ đô của Việt Nam, nằm ở vị trí 21°0...</td>\n",
       "      <td>[Hà Nội, thủ đô của Việt Nam, nằm ở vị trí 21°...</td>\n",
       "      <td>[accurate, minor_inaccurate, accurate, minor_i...</td>\n",
       "      <td>[Hà Nội, thủ đô của Việt Nam, nằm ở tọa độ địa...</td>\n",
       "      <td>[None, Hà Nội chỉ nằm trên lưu vực Sông Hồng (...</td>\n",
       "      <td>[0.0, 0.5, 0.0, 0.5, 0.5, 0.0]</td>\n",
       "      <td>0.25</td>\n",
       "    </tr>\n",
       "    <tr>\n",
       "      <th>1</th>\n",
       "      <td>Thành phố Hồ Chí Minh</td>\n",
       "      <td>Thành phố Hồ Chí Minh (TP.HCM) nằm ở phía Đông...</td>\n",
       "      <td>[Thành phố Hồ Chí Minh (TP.HCM) nằm ở phía Đôn...</td>\n",
       "      <td>[accurate, accurate, minor_inaccurate, minor_i...</td>\n",
       "      <td>[Thành phố Hồ Chí Minh (TP. HCM) nằm ở phía Đô...</td>\n",
       "      <td>[None, None, Hồ Chí Minh nằm ở hạ lưu sông Sài...</td>\n",
       "      <td>[0.0, 0.0, 0.5, 0.5, 0.0]</td>\n",
       "      <td>0.20</td>\n",
       "    </tr>\n",
       "  </tbody>\n",
       "</table>\n",
       "</div>"
      ],
      "text/plain": [
       "                   title                                        gemini_text  \\\n",
       "0                 Hà Nội  Hà Nội, thủ đô của Việt Nam, nằm ở vị trí 21°0...   \n",
       "1  Thành phố Hồ Chí Minh  Thành phố Hồ Chí Minh (TP.HCM) nằm ở phía Đông...   \n",
       "\n",
       "                                    gemini_sentences  \\\n",
       "0  [Hà Nội, thủ đô của Việt Nam, nằm ở vị trí 21°...   \n",
       "1  [Thành phố Hồ Chí Minh (TP.HCM) nằm ở phía Đôn...   \n",
       "\n",
       "                                          annotation  \\\n",
       "0  [accurate, minor_inaccurate, accurate, minor_i...   \n",
       "1  [accurate, accurate, minor_inaccurate, minor_i...   \n",
       "\n",
       "                                 gemini_text_samples  \\\n",
       "0  [Hà Nội, thủ đô của Việt Nam, nằm ở tọa độ địa...   \n",
       "1  [Thành phố Hồ Chí Minh (TP. HCM) nằm ở phía Đô...   \n",
       "\n",
       "                                     annotation_note  \\\n",
       "0  [None, Hà Nội chỉ nằm trên lưu vực Sông Hồng (...   \n",
       "1  [None, None, Hồ Chí Minh nằm ở hạ lưu sông Sài...   \n",
       "\n",
       "                mapped_annotation  document_factuatily_score  \n",
       "0  [0.0, 0.5, 0.0, 0.5, 0.5, 0.0]                       0.25  \n",
       "1       [0.0, 0.0, 0.5, 0.5, 0.0]                       0.20  "
      ]
     },
     "execution_count": 56,
     "metadata": {},
     "output_type": "execute_result"
    }
   ],
   "source": [
    "\n",
    "df['mapped_annotation'] = df['annotation'].apply(lambda x: [map_label[i] for i in x])\n",
    "df['document_factuatily_score'] = df['mapped_annotation'].apply(lambda x: np.mean(x))\n",
    "df.head(2)"
   ]
  },
  {
   "cell_type": "code",
   "execution_count": 57,
   "metadata": {},
   "outputs": [
    {
     "data": {
      "image/png": "[encoded data removed]",
      "text/plain": [
       "<Figure size 1000x500 with 1 Axes>"
      ]
     },
     "metadata": {},
     "output_type": "display_data"
    }
   ],
   "source": [
    "import numpy as np\n",
    "\n",
    "# Define bin edges to ensure 11 bins from 0.0 to 1.0\n",
    "bin_edges = np.linspace(-0.05, 1.05, 12)  # 12 points create 11 equal intervals\n",
    "\n",
    "# Histogram of document factuality score\n",
    "plt.figure(figsize=(10, 5))\n",
    "sns.histplot(df['document_factuatily_score'], bins=bin_edges)  # Use bin_edges for equal bin widths\n",
    "plt.title('Histogram of document factuality score')\n",
    "plt.xticks(np.arange(0.0, 1.1, 0.1))  # Ensure labels from 0.0 to 1.0\n",
    "plt.xlabel('Document factuality score')\n",
    "plt.ylabel('Number of documents')\n",
    "plt.show()\n"
   ]
  }
 ],
 "metadata": {
  "kernelspec": {
   "display_name": "selfcheck-env",
   "language": "python",
   "name": "python3"
  },
  "language_info": {
   "codemirror_mode": {
    "name": "ipython",
    "version": 3
   },
   "file_extension": ".py",
   "mimetype": "text/x-python",
   "name": "python",
   "nbconvert_exporter": "python",
   "pygments_lexer": "ipython3",
   "version": "3.10.15"
  }
 },
 "nbformat": 4,
 "nbformat_minor": 2
}
